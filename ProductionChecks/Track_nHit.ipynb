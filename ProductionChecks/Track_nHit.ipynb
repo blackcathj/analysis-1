{
 "cells": [
  {
   "cell_type": "markdown",
   "id": "dab8e6fb-50e2-44a5-86b3-69cf1b1dd117",
   "metadata": {},
   "source": [
    "# Introduction\n",
    "\n",
    "QA plots for the TPC detector"
   ]
  },
  {
   "cell_type": "code",
   "execution_count": 1,
   "id": "5600c45d-56ef-4d8a-b00b-f77c1bc51d82",
   "metadata": {},
   "outputs": [],
   "source": [
    "# imports to write dynamic markdown contents\n",
    "import os\n",
    "from IPython.display import display, Markdown, Latex\n",
    "from IPython.display import HTML"
   ]
  },
  {
   "cell_type": "code",
   "execution_count": 2,
   "id": "ce9e38a2-2cca-42f5-83b8-da713c9c1fce",
   "metadata": {},
   "outputs": [
    {
     "data": {
      "text/markdown": [
       "*For the result HTML page:* "
      ],
      "text/plain": [
       "<IPython.core.display.Markdown object>"
      ]
     },
     "metadata": {},
     "output_type": "display_data"
    },
    {
     "data": {
      "text/html": [
       "<script>\n",
       "code_show=true; \n",
       "function code_toggle() {\n",
       " if (code_show){\n",
       " $('div.input').hide();\n",
       " } else {\n",
       " $('div.input').show();\n",
       " }\n",
       " code_show = !code_show\n",
       "} \n",
       "$( document ).ready(code_toggle);\n",
       "</script>\n",
       "<form action=\"javascript:code_toggle()\"><input type=\"submit\" value=\"Click here to toggle on/off the raw code.\"></form>"
      ],
      "text/plain": [
       "<IPython.core.display.HTML object>"
      ]
     },
     "execution_count": 2,
     "metadata": {},
     "output_type": "execute_result"
    }
   ],
   "source": [
    "# turn off/on code for the result HTML page\n",
    "\n",
    "display(Markdown('*For the result HTML page:* '))\n",
    "    \n",
    "HTML('''<script>\n",
    "code_show=true; \n",
    "function code_toggle() {\n",
    " if (code_show){\n",
    " $('div.input').hide();\n",
    " } else {\n",
    " $('div.input').show();\n",
    " }\n",
    " code_show = !code_show\n",
    "} \n",
    "$( document ).ready(code_toggle);\n",
    "</script>\n",
    "<form action=\"javascript:code_toggle()\"><input type=\"submit\" value=\"Click here to toggle on/off the raw code.\"></form>''')"
   ]
  },
  {
   "cell_type": "markdown",
   "id": "6d68a0e7-7b8d-4339-9937-e716a3b8d641",
   "metadata": {},
   "source": [
    "## `pyROOT` env check"
   ]
  },
  {
   "cell_type": "code",
   "execution_count": 3,
   "id": "c28a667f-9b09-4088-afdf-7d4cda768a32",
   "metadata": {},
   "outputs": [
    {
     "name": "stdout",
     "output_type": "stream",
     "text": [
      "Welcome to JupyROOT 6.24/06\n"
     ]
    },
    {
     "data": {
      "text/markdown": [
       "via sPHENIX software distribution at `/cvmfs/sphenix.sdcc.bnl.gov/gcc-8.3/release/release_new/new.2`"
      ],
      "text/plain": [
       "<IPython.core.display.Markdown object>"
      ]
     },
     "metadata": {},
     "output_type": "display_data"
    }
   ],
   "source": [
    "import ROOT\n",
    "\n",
    "OFFLINE_MAIN = os.getenv(\"OFFLINE_MAIN\")\n",
    "if OFFLINE_MAIN is not None:\n",
    "    display(Markdown(f\"via sPHENIX software distribution at `{OFFLINE_MAIN}`\"))\n",
    "    \n",
    "os.environ[\"S3_ACCESS_KEY\"] = \"eicS3read\"\n",
    "os.environ[\"S3_SECRET_KEY\"] = \"eicS3read\""
   ]
  },
  {
   "cell_type": "markdown",
   "id": "4c6b0c91-2e78-45f5-90e5-7c7c415d3f0e",
   "metadata": {},
   "source": [
    "\n",
    "# Initialization"
   ]
  },
  {
   "cell_type": "code",
   "execution_count": 4,
   "id": "bd6ad9f8-109d-4a13-9a67-a073cc603b09",
   "metadata": {
    "scrolled": true
   },
   "outputs": [],
   "source": [
    "%%cpp -d\n",
    "\n",
    "\n",
    "#include <sPhenixStyle.C>\n",
    "\n",
    "#include <TFile.h>\n",
    "#include <TLine.h>\n",
    "#include <TString.h>\n",
    "#include <TTree.h>\n",
    "#include <cassert>\n",
    "#include <cmath>"
   ]
  },
  {
   "cell_type": "code",
   "execution_count": 5,
   "id": "0441d99a-2e3b-4177-84dc-70f150d5856c",
   "metadata": {
    "scrolled": true,
    "tags": []
   },
   "outputs": [
    {
     "name": "stdout",
     "output_type": "stream",
     "text": [
      "sPhenixStyle: Applying nominal settings.\n",
      "sPhenixStyle: ROOT6 mode\n"
     ]
    }
   ],
   "source": [
    "%%cpp\n",
    "\n",
    "SetsPhenixStyle();\n",
    "TVirtualFitter::SetDefaultFitter(\"Minuit2\");"
   ]
  },
  {
   "cell_type": "code",
   "execution_count": 6,
   "id": "0eb80e2b-f2d3-4531-b248-f17fda2acb80",
   "metadata": {
    "scrolled": true,
    "tags": []
   },
   "outputs": [],
   "source": [
    "%%cpp\n",
    "TFile *qa_file_new =  TFile::Open(\"s3://dtn01.sdcc.bnl.gov:9000/eictest/ECCE/MC/prop.7/prop.7.0/General/particleGun/singleMuon/eval_00000/DST_General_particleGun_singleMuon_000_2400000_02000_g4tracking_eval.root\");\n"
   ]
  },
  {
   "cell_type": "code",
   "execution_count": 7,
   "id": "6d1dedc7-9581-49bd-a4a2-ea3a6c07eaea",
   "metadata": {},
   "outputs": [
    {
     "name": "stdout",
     "output_type": "stream",
     "text": [
      "TS3WebFile**\t\ts3://dtn01.sdcc.bnl.gov:9000/eictest/ECCE/MC/prop.7/prop.7.0/General/particleGun/singleMuon/eval_00000/DST_General_particleGun_singleMuon_000_2400000_02000_g4tracking_eval.root\t\n",
      " TS3WebFile*\t\ts3://dtn01.sdcc.bnl.gov:9000/eictest/ECCE/MC/prop.7/prop.7.0/General/particleGun/singleMuon/eval_00000/DST_General_particleGun_singleMuon_000_2400000_02000_g4tracking_eval.root\t\n",
      "  KEY: TTree\ttracks;1\tFastSim Eval => tracks\n",
      "  KEY: TTree\tvertex;1\tFastSim Eval => vertces\n",
      "  KEY: TH2D\tDeltaMomVsTruthEta;1\t#frac{#Delta p}{truth p} vs. truth #eta\n",
      "  KEY: TH2D\tDeltaMomVsTruthMom;1\t#frac{#Delta p}{truth p} vs. truth p\n"
     ]
    }
   ],
   "source": [
    "%%cpp\n",
    "\n",
    "qa_file_new->ls();"
   ]
  },
  {
   "cell_type": "code",
   "execution_count": 8,
   "id": "41e7ff5d-68d7-469a-91f0-91f89d5cf484",
   "metadata": {},
   "outputs": [],
   "source": [
    "%%cpp\n",
    "\n",
    "TTree * tracks = nullptr; \n",
    "\n",
    "qa_file_new->GetObject(\"tracks\", tracks);"
   ]
  },
  {
   "cell_type": "code",
   "execution_count": 9,
   "id": "05dbf178-e637-4362-91f1-ef6cea931ede",
   "metadata": {
    "scrolled": true,
    "tags": []
   },
   "outputs": [
    {
     "name": "stdout",
     "output_type": "stream",
     "text": [
      "======> EVENT:0\n",
      " event           = 1\n",
      " gtrackID        = 1\n",
      " gflavor         = 13\n",
      " gpx             = 16.3239\n",
      " gpy             = 3.36693\n",
      " gpz             = -48.6347\n",
      " gvx             = 0\n",
      " gvy             = 0\n",
      " gvz             = -0.132238\n",
      " gvt             = 0\n",
      " trackID         = -9999\n",
      " charge          = -9999\n",
      " nhits           = -9999\n",
      " px              = nan\n",
      " py              = nan\n",
      " pz              = nan\n",
      " pcax            = nan\n",
      " pcay            = nan\n",
      " pcaz            = nan\n",
      " dca2d           = nan\n",
      " nHit_G4HIT_BARR_0 = 0\n",
      " nHit_G4HIT_BARR_1 = 0\n",
      " nHit_G4HIT_CTTL_0 = 0\n",
      " nHit_G4HIT_EST_0 = 0\n",
      " nHit_G4HIT_EST_1 = 0\n",
      " nHit_G4HIT_EST_2 = 0\n",
      " nHit_G4HIT_EST_3 = 0\n",
      " nHit_G4HIT_ETTL_0 = 0\n",
      " nHit_G4HIT_FST_0 = 0\n",
      " nHit_G4HIT_FST_1 = 0\n",
      " nHit_G4HIT_FST_2 = 0\n",
      " nHit_G4HIT_FST_3 = 0\n",
      " nHit_G4HIT_FST_4 = 0\n",
      " nHit_G4HIT_FTTL_0 = 0\n",
      " nHit_G4HIT_RWELL_0 = 0\n",
      " nHit_G4HIT_RWELL_1 = 0\n",
      " nHit_G4HIT_RWELL_2 = 0\n",
      " nHit_G4HIT_SVTX_0 = 0\n",
      " nHit_G4HIT_SVTX_1 = 0\n",
      " nHit_G4HIT_SVTX_2 = 0\n",
      " BECAL_proj_x    = -9999\n",
      " BECAL_proj_y    = -9999\n",
      " BECAL_proj_z    = -9999\n",
      " BECAL_proj_path_length = -9999\n",
      " BECAL_proj_px   = -9999\n",
      " BECAL_proj_py   = -9999\n",
      " BECAL_proj_pz   = -9999\n",
      " CTTL_0_proj_x   = -9999\n",
      " CTTL_0_proj_y   = -9999\n",
      " CTTL_0_proj_z   = -9999\n",
      " CTTL_0_proj_path_length = -9999\n",
      " CTTL_0_proj_px  = -9999\n",
      " CTTL_0_proj_py  = -9999\n",
      " CTTL_0_proj_pz  = -9999\n",
      " CTTL_0_x        = -9999\n",
      " CTTL_0_y        = -9999\n",
      " CTTL_0_z        = -9999\n",
      " CTTL_0_t        = -9999\n",
      " CTTL_0_px       = -9999\n",
      " CTTL_0_py       = -9999\n",
      " CTTL_0_pz       = -9999\n",
      " EEMC_proj_x     = -9999\n",
      " EEMC_proj_y     = -9999\n",
      " EEMC_proj_z     = -9999\n",
      " EEMC_proj_path_length = -9999\n",
      " EEMC_proj_px    = -9999\n",
      " EEMC_proj_py    = -9999\n",
      " EEMC_proj_pz    = -9999\n",
      " ETTL_0_proj_x   = -9999\n",
      " ETTL_0_proj_y   = -9999\n",
      " ETTL_0_proj_z   = -9999\n",
      " ETTL_0_proj_path_length = -9999\n",
      " ETTL_0_proj_px  = -9999\n",
      " ETTL_0_proj_py  = -9999\n",
      " ETTL_0_proj_pz  = -9999\n",
      " ETTL_0_x        = -9999\n",
      " ETTL_0_y        = -9999\n",
      " ETTL_0_z        = -9999\n",
      " ETTL_0_t        = -9999\n",
      " ETTL_0_px       = -9999\n",
      " ETTL_0_py       = -9999\n",
      " ETTL_0_pz       = -9999\n",
      " ETTL_1_proj_x   = -9999\n",
      " ETTL_1_proj_y   = -9999\n",
      " ETTL_1_proj_z   = -9999\n",
      " ETTL_1_proj_path_length = -9999\n",
      " ETTL_1_proj_px  = -9999\n",
      " ETTL_1_proj_py  = -9999\n",
      " ETTL_1_proj_pz  = -9999\n",
      " FEMC_proj_x     = -9999\n",
      " FEMC_proj_y     = -9999\n",
      " FEMC_proj_z     = -9999\n",
      " FEMC_proj_path_length = -9999\n",
      " FEMC_proj_px    = -9999\n",
      " FEMC_proj_py    = -9999\n",
      " FEMC_proj_pz    = -9999\n",
      " FTTL_0_proj_x   = -9999\n",
      " FTTL_0_proj_y   = -9999\n",
      " FTTL_0_proj_z   = -9999\n",
      " FTTL_0_proj_path_length = -9999\n",
      " FTTL_0_proj_px  = -9999\n",
      " FTTL_0_proj_py  = -9999\n",
      " FTTL_0_proj_pz  = -9999\n",
      " FTTL_0_x        = -9999\n",
      " FTTL_0_y        = -9999\n",
      " FTTL_0_z        = -9999\n",
      " FTTL_0_t        = -9999\n",
      " FTTL_0_px       = -9999\n",
      " FTTL_0_py       = -9999\n",
      " FTTL_0_pz       = -9999\n",
      " FTTL_1_proj_x   = -9999\n",
      " FTTL_1_proj_y   = -9999\n",
      " FTTL_1_proj_z   = -9999\n",
      " FTTL_1_proj_path_length = -9999\n",
      " FTTL_1_proj_px  = -9999\n",
      " FTTL_1_proj_py  = -9999\n",
      " FTTL_1_proj_pz  = -9999\n",
      " HCALOUT_proj_x  = -9999\n",
      " HCALOUT_proj_y  = -9999\n",
      " HCALOUT_proj_z  = -9999\n",
      " HCALOUT_proj_path_length = -9999\n",
      " HCALOUT_proj_px = -9999\n",
      " HCALOUT_proj_py = -9999\n",
      " HCALOUT_proj_pz = -9999\n",
      " LFHCAL_proj_x   = -9999\n",
      " LFHCAL_proj_y   = -9999\n",
      " LFHCAL_proj_z   = -9999\n",
      " LFHCAL_proj_path_length = -9999\n",
      " LFHCAL_proj_px  = -9999\n",
      " LFHCAL_proj_py  = -9999\n",
      " LFHCAL_proj_pz  = -9999\n",
      " RICH_proj_x     = -9999\n",
      " RICH_proj_y     = -9999\n",
      " RICH_proj_z     = -9999\n",
      " RICH_proj_path_length = -9999\n",
      " RICH_proj_px    = -9999\n",
      " RICH_proj_py    = -9999\n",
      " RICH_proj_pz    = -9999\n",
      " hpDIRC_proj_x   = -9999\n",
      " hpDIRC_proj_y   = -9999\n",
      " hpDIRC_proj_z   = -9999\n",
      " hpDIRC_proj_path_length = -9999\n",
      " hpDIRC_proj_px  = -9999\n",
      " hpDIRC_proj_py  = -9999\n",
      " hpDIRC_proj_pz  = -9999\n",
      " hpDIRC_x        = -9999\n",
      " hpDIRC_y        = -9999\n",
      " hpDIRC_z        = -9999\n",
      " hpDIRC_t        = -9999\n",
      " hpDIRC_px       = -9999\n",
      " hpDIRC_py       = -9999\n",
      " hpDIRC_pz       = -9999\n",
      " mRICH_proj_x    = -9999\n",
      " mRICH_proj_y    = -9999\n",
      " mRICH_proj_z    = -9999\n",
      " mRICH_proj_path_length = -9999\n",
      " mRICH_proj_px   = -9999\n",
      " mRICH_proj_py   = -9999\n",
      " mRICH_proj_pz   = -9999\n",
      " mRICH_x         = -9999\n",
      " mRICH_y         = -9999\n",
      " mRICH_z         = -9999\n",
      " mRICH_t         = -9999\n",
      " mRICH_px        = -9999\n",
      " mRICH_py        = -9999\n",
      " mRICH_pz        = -9999\n"
     ]
    }
   ],
   "source": [
    "%%cpp\n",
    "\n",
    "tracks->Show(0)"
   ]
  },
  {
   "cell_type": "markdown",
   "id": "5313476c-9879-49cd-975c-734229d8668d",
   "metadata": {
    "tags": []
   },
   "source": [
    "# Results"
   ]
  },
  {
   "cell_type": "code",
   "execution_count": 10,
   "id": "b14c3e71-288a-4268-b46e-dcefaa82dae2",
   "metadata": {},
   "outputs": [
    {
     "data": {
      "image/png": "[encoded data removed]",
      "text/plain": [
       "<IPython.core.display.Image object>"
      ]
     },
     "metadata": {},
     "output_type": "display_data"
    }
   ],
   "source": [
    "%%cpp\n",
    "\n",
    "{\n",
    "\n",
    "    \n",
    "    const char *hist_name_prefix = \"TowerScan\";\n",
    "    auto c1 = new TCanvas(TString(\"TowerScan\") ,\n",
    "                        TString(\"TowerScan\"),\n",
    "                        1800, 1550);\n",
    "\n",
    "    c1->Divide(1, 2);\n",
    "    int idx = 1;\n",
    "    TPad *p;\n",
    "    \n",
    "    {\n",
    "        p = (TPad *) c1->cd(idx++);\n",
    "        c1->Update();\n",
    "        \n",
    "        TH1 * hnHit_eta = new TH2F(\"hnHit_eta\",\";#eta of muon track | p>1 GeV/c;number of hit used by Kalman filter\", 32, -4,4, 15,-.5,14.5);\n",
    "        \n",
    "        tracks->Draw(\" nHit_G4HIT_BARR_0 +  nHit_G4HIT_BARR_1+ nHit_G4HIT_CTTL_0 + nHit_G4HIT_EST_0 + nHit_G4HIT_EST_1 +  nHit_G4HIT_EST_2+ nHit_G4HIT_EST_3 +  nHit_G4HIT_ETTL_0 +  nHit_G4HIT_FST_0 + nHit_G4HIT_FST_1 + nHit_G4HIT_FST_2 + nHit_G4HIT_FST_3+ nHit_G4HIT_FST_4 + nHit_G4HIT_FTTL_0 +  nHit_G4HIT_RWELL_0 +  nHit_G4HIT_RWELL_1 +  nHit_G4HIT_RWELL_2 +  nHit_G4HIT_SVTX_0 +  nHit_G4HIT_SVTX_1  +  nHit_G4HIT_SVTX_2: -log( tan( 0.5* atan2( sqrt( gpx*gpx + gpy*gpy)  , gpz  ) ) )>>hnHit_eta\",\"\",\"colz\");\n",
    "        \n",
    "    }\n",
    "    \n",
    "    \n",
    "    \n",
    "    \n",
    "    c1->Draw();\n",
    "}"
   ]
  },
  {
   "cell_type": "code",
   "execution_count": null,
   "id": "61c12bdc-df6e-459a-a608-22da6f831b54",
   "metadata": {},
   "outputs": [],
   "source": []
  }
 ],
 "metadata": {
  "kernelspec": {
   "display_name": "Python (sPHENIX)",
   "language": "python",
   "name": "sphenix-env"
  },
  "language_info": {
   "codemirror_mode": {
    "name": "ipython",
    "version": 3
   },
   "file_extension": ".py",
   "mimetype": "text/x-python",
   "name": "python",
   "nbconvert_exporter": "python",
   "pygments_lexer": "ipython3",
   "version": "3.8.0"
  }
 },
 "nbformat": 4,
 "nbformat_minor": 5
}
